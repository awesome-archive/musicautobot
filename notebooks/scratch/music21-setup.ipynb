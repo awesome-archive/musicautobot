{
 "cells": [
  {
   "cell_type": "code",
   "execution_count": 20,
   "metadata": {},
   "outputs": [
    {
     "data": {
      "text/plain": [
       "'Linux'"
      ]
     },
     "execution_count": 20,
     "metadata": {},
     "output_type": "execute_result"
    }
   ],
   "source": [
    "system"
   ]
  },
  {
   "cell_type": "code",
   "execution_count": 22,
   "metadata": {},
   "outputs": [],
   "source": [
    "def setup_musescore(musescore_path=None):\n",
    "    if not is_ipython(): return\n",
    "    \n",
    "    import platform\n",
    "    from music21 import environment\n",
    "    \n",
    "    system = platform.system()\n",
    "    if system == 'Linux':\n",
    "        import os\n",
    "        os.environ['QT_QPA_PLATFORM']='offscreen' # https://musescore.org/en/node/29041\n",
    "        \n",
    "    existing_path = environment.get('musicxmlPath')\n",
    "    if existing_path: return\n",
    "    if musescore_path is None:\n",
    "        if system == 'Darwin':\n",
    "            app_paths = list(Path('/Applications').glob('MuseScore *.app'))\n",
    "            if len(musescore_app): musescore_path = app_paths[-1]/'Contents/MacOS/mscore'\n",
    "        elif system == 'Linux':\n",
    "            musescore_path = '/usr/bin/musescore'\n",
    "    \n",
    "    if musescore_path is None or not Path(musescore_path).exists():\n",
    "        print('Warning: Could not find musescore installation. Please install musescore and/or update music21 environment paths')\n",
    "    else :\n",
    "        music21.environment.set('musicxmlPath', musescore_path)\n",
    "        music21.environment.set('musescoreDirectPNGPath', musescore_path)\n",
    "\n",
    "def is_ipython()\n",
    "    try: get_ipython\n",
    "    except: return False\n",
    "    return True"
   ]
  },
  {
   "cell_type": "code",
   "execution_count": 23,
   "metadata": {},
   "outputs": [],
   "source": [
    "setup_musescore()"
   ]
  },
  {
   "cell_type": "code",
   "execution_count": 5,
   "metadata": {},
   "outputs": [],
   "source": [
    "from pathlib import Path"
   ]
  },
  {
   "cell_type": "code",
   "execution_count": 7,
   "metadata": {},
   "outputs": [
    {
     "data": {
      "text/plain": [
       "False"
      ]
     },
     "execution_count": 7,
     "metadata": {},
     "output_type": "execute_result"
    }
   ],
   "source": [
    "Path('/Applications/MuseScore 3.app/Contents/MacOS/mscore').exists()"
   ]
  },
  {
   "cell_type": "code",
   "execution_count": 21,
   "metadata": {},
   "outputs": [
    {
     "data": {
      "text/plain": [
       "True"
      ]
     },
     "execution_count": 21,
     "metadata": {},
     "output_type": "execute_result"
    }
   ],
   "source": [
    "Path('/usr/bin/musescore').exists()"
   ]
  },
  {
   "cell_type": "code",
   "execution_count": null,
   "metadata": {},
   "outputs": [],
   "source": []
  },
  {
   "cell_type": "code",
   "execution_count": 1,
   "metadata": {},
   "outputs": [],
   "source": [
    "import music21"
   ]
  },
  {
   "cell_type": "code",
   "execution_count": 2,
   "metadata": {},
   "outputs": [],
   "source": [
    "us = music21.environment.UserSettings()"
   ]
  },
  {
   "cell_type": "code",
   "execution_count": 3,
   "metadata": {},
   "outputs": [],
   "source": [
    "us.restoreDefaults()"
   ]
  },
  {
   "cell_type": "code",
   "execution_count": 4,
   "metadata": {},
   "outputs": [],
   "source": [
    "music21.environment.get('musicxmlPath')"
   ]
  },
  {
   "cell_type": "code",
   "execution_count": 5,
   "metadata": {},
   "outputs": [],
   "source": [
    "import os\n",
    "os.chdir('../../')"
   ]
  },
  {
   "cell_type": "code",
   "execution_count": 6,
   "metadata": {},
   "outputs": [],
   "source": [
    "import musicautobot.music_transformer"
   ]
  },
  {
   "cell_type": "code",
   "execution_count": 7,
   "metadata": {},
   "outputs": [
    {
     "data": {
      "text/plain": [
       "PosixPath('/usr/bin/musescore')"
      ]
     },
     "execution_count": 7,
     "metadata": {},
     "output_type": "execute_result"
    }
   ],
   "source": [
    "music21.environment.get('musicxmlPath')"
   ]
  },
  {
   "cell_type": "code",
   "execution_count": null,
   "metadata": {},
   "outputs": [],
   "source": []
  }
 ],
 "metadata": {
  "kernelspec": {
   "display_name": "Python 3",
   "language": "python",
   "name": "python3"
  },
  "language_info": {
   "codemirror_mode": {
    "name": "ipython",
    "version": 3
   },
   "file_extension": ".py",
   "mimetype": "text/x-python",
   "name": "python",
   "nbconvert_exporter": "python",
   "pygments_lexer": "ipython3",
   "version": "3.7.3"
  }
 },
 "nbformat": 4,
 "nbformat_minor": 2
}
