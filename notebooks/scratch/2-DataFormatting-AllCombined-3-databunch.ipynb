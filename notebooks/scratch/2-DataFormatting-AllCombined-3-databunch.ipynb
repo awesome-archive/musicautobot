{
 "cells": [
  {
   "cell_type": "markdown",
   "metadata": {},
   "source": [
    "# Tokenize and save data"
   ]
  },
  {
   "cell_type": "code",
   "execution_count": 1,
   "metadata": {},
   "outputs": [],
   "source": [
    "%reload_ext autoreload\n",
    "%autoreload 2\n",
    "%matplotlib inline"
   ]
  },
  {
   "cell_type": "code",
   "execution_count": 2,
   "metadata": {},
   "outputs": [],
   "source": [
    "import os\n",
    "os.chdir('../../')"
   ]
  },
  {
   "cell_type": "code",
   "execution_count": 3,
   "metadata": {},
   "outputs": [],
   "source": [
    "from src.numpy_encode import *\n",
    "from src.utils.file_processing import process_all, process_file\n",
    "from src.config import *\n",
    "from src.music_transformer import *"
   ]
  },
  {
   "cell_type": "code",
   "execution_count": 4,
   "metadata": {},
   "outputs": [],
   "source": [
    "# from fastai.text import *"
   ]
  },
  {
   "cell_type": "markdown",
   "metadata": {},
   "source": [
    "## Preparing the data"
   ]
  },
  {
   "cell_type": "code",
   "execution_count": 5,
   "metadata": {},
   "outputs": [],
   "source": [
    "version = 'v18'\n",
    "data_path = Path('data/midi')\n",
    "version_path = data_path/version"
   ]
  },
  {
   "cell_type": "code",
   "execution_count": 6,
   "metadata": {},
   "outputs": [
    {
     "data": {
      "text/plain": [
       "[PosixPath('data/midi/v18/metadata'),\n",
       " PosixPath('data/midi/v18/midi_sources'),\n",
       " PosixPath('data/midi/v18/sf4')]"
      ]
     },
     "execution_count": 6,
     "metadata": {},
     "output_type": "execute_result"
    }
   ],
   "source": [
    "sf_path = f'sf{SAMPLE_FREQ}'\n",
    "# source_dir = Path(f'{sf_path}/piano_duet')\n",
    "source_dir = Path(f'{sf_path}/midi_encode')\n",
    "out_path = version_path/source_dir\n",
    "csv_path = out_path/f'{source_dir.name}.csv'\n",
    "version_path.ls()"
   ]
  },
  {
   "cell_type": "code",
   "execution_count": 7,
   "metadata": {},
   "outputs": [
    {
     "name": "stderr",
     "output_type": "stream",
     "text": [
      "/home/ubuntu/anaconda3/envs/midi/lib/python3.7/site-packages/IPython/core/interactiveshell.py:3020: DtypeWarning: Columns (0,2,5,6,12,15) have mixed types. Specify dtype option on import or set low_memory=False.\n",
      "  interactivity=interactivity, compiler=compiler, result=result)\n"
     ]
    }
   ],
   "source": [
    "csv = pd.read_csv(csv_path)\n",
    "csv = csv.loc[csv['numpy'].notna()];"
   ]
  },
  {
   "cell_type": "code",
   "execution_count": 8,
   "metadata": {},
   "outputs": [],
   "source": [
    "\n",
    "class NPStreamProcessor(PreProcessor):\n",
    "    \"`PreProcessor` that opens the filenames and read the texts.\"\n",
    "    def process_one(self,item):\n",
    "        item = to_single_stream(item)\n",
    "        item = stack_position_tfm(item)\n",
    "        return item\n",
    "    \n",
    "    def process(self, ds:Collection):\n",
    "        ds.items = [self.process_one(item) for item in ds.items]"
   ]
  },
  {
   "cell_type": "code",
   "execution_count": 9,
   "metadata": {},
   "outputs": [],
   "source": [
    "def create_databunch(files, cache_name, batch_size=32, load_cached=False):\n",
    "    if load_cached and (out_path/f'{cache_name}/train_ids.npy').exists():\n",
    "        data = MusicDataBunch.load(out_path, bs=batch_size, cache_name=cache_name)\n",
    "    else:\n",
    "        ps = [OpenNPFileProcessor()]\n",
    "\n",
    "        data = (MusicItemList(items=files, path=out_path, processor=ps)\n",
    "                .split_by_rand_pct(0.01, seed=6)\n",
    "                .label_const(label_cls=LMLabelList))\n",
    "        data.x._bunch = MusicDataBunch\n",
    "        data = data.databunch(bs=batch_size)\n",
    "        data.save(cache_name)\n",
    "    return data"
   ]
  },
  {
   "cell_type": "code",
   "execution_count": 10,
   "metadata": {},
   "outputs": [],
   "source": [
    "def get_files(csv):\n",
    "    files = csv['numpy']\n",
    "    flist = [Path(version_path/f) for f in files.values if isinstance(f, str)]\n",
    "    flist = [f for f in flist if f.exists()]\n",
    "    return flist"
   ]
  },
  {
   "cell_type": "code",
   "execution_count": 11,
   "metadata": {},
   "outputs": [
    {
     "data": {
      "text/plain": [
       "PosixPath('data/midi/v18')"
      ]
     },
     "execution_count": 11,
     "metadata": {},
     "output_type": "execute_result"
    }
   ],
   "source": [
    "version_path"
   ]
  },
  {
   "cell_type": "markdown",
   "metadata": {},
   "source": [
    "### Create All Dataset"
   ]
  },
  {
   "cell_type": "code",
   "execution_count": 12,
   "metadata": {},
   "outputs": [
    {
     "data": {
      "text/html": [
       "<div>\n",
       "<style scoped>\n",
       "    .dataframe tbody tr th:only-of-type {\n",
       "        vertical-align: middle;\n",
       "    }\n",
       "\n",
       "    .dataframe tbody tr th {\n",
       "        vertical-align: top;\n",
       "    }\n",
       "\n",
       "    .dataframe thead th {\n",
       "        text-align: right;\n",
       "    }\n",
       "</style>\n",
       "<table border=\"1\" class=\"dataframe\">\n",
       "  <thead>\n",
       "    <tr style=\"text-align: right;\">\n",
       "      <th></th>\n",
       "      <th>song_url</th>\n",
       "      <th>md5</th>\n",
       "      <th>mxl</th>\n",
       "      <th>genres</th>\n",
       "      <th>ht_offset</th>\n",
       "      <th>ht_key</th>\n",
       "      <th>section</th>\n",
       "      <th>source</th>\n",
       "      <th>ht_bpm</th>\n",
       "      <th>artist</th>\n",
       "      <th>ht_mode</th>\n",
       "      <th>numpy</th>\n",
       "      <th>midi_title</th>\n",
       "      <th>title</th>\n",
       "      <th>midi</th>\n",
       "      <th>parts</th>\n",
       "      <th>ht_time_signature</th>\n",
       "    </tr>\n",
       "  </thead>\n",
       "  <tbody>\n",
       "    <tr>\n",
       "      <th>0</th>\n",
       "      <td>https://www.hooktheory.com/theorytab/view/wayn...</td>\n",
       "      <td>bf1f29e5ff84e3e93e37fb873bfb590e</td>\n",
       "      <td>NaN</td>\n",
       "      <td>NaN</td>\n",
       "      <td>0.0</td>\n",
       "      <td>C</td>\n",
       "      <td>chorus</td>\n",
       "      <td>hooktheory</td>\n",
       "      <td>128.0</td>\n",
       "      <td>wayne-sharpe</td>\n",
       "      <td>1.0</td>\n",
       "      <td>sf4/midi_encode/hooktheory/pianoroll/w/wayne-s...</td>\n",
       "      <td>yu-gi-oh3</td>\n",
       "      <td>yu-gi-oh-theme-song</td>\n",
       "      <td>midi_sources/hooktheory/pianoroll/w/wayne-shar...</td>\n",
       "      <td>intro,chorus</td>\n",
       "      <td>4.0</td>\n",
       "    </tr>\n",
       "    <tr>\n",
       "      <th>1</th>\n",
       "      <td>https://www.hooktheory.com/theorytab/view/wayn...</td>\n",
       "      <td>055f80ad67f64edb14a85ca8fbfe8c29</td>\n",
       "      <td>NaN</td>\n",
       "      <td>NaN</td>\n",
       "      <td>0.0</td>\n",
       "      <td>C</td>\n",
       "      <td>intro</td>\n",
       "      <td>hooktheory</td>\n",
       "      <td>85.0</td>\n",
       "      <td>wayne-sharpe</td>\n",
       "      <td>1.0</td>\n",
       "      <td>sf4/midi_encode/hooktheory/pianoroll/w/wayne-s...</td>\n",
       "      <td>yu-gi-oh</td>\n",
       "      <td>yu-gi-oh-theme-song</td>\n",
       "      <td>midi_sources/hooktheory/pianoroll/w/wayne-shar...</td>\n",
       "      <td>intro,chorus</td>\n",
       "      <td>3.0</td>\n",
       "    </tr>\n",
       "    <tr>\n",
       "      <th>2</th>\n",
       "      <td>https://www.hooktheory.com/theorytab/view/what...</td>\n",
       "      <td>197f96f5d181f6ce1e2c5ab04ac1ff87</td>\n",
       "      <td>NaN</td>\n",
       "      <td>Jazz</td>\n",
       "      <td>-5.0</td>\n",
       "      <td>D</td>\n",
       "      <td>chorus</td>\n",
       "      <td>hooktheory</td>\n",
       "      <td>96.0</td>\n",
       "      <td>what-a-day</td>\n",
       "      <td>6.0</td>\n",
       "      <td>sf4/midi_encode/hooktheory/pianoroll/w/what-a-...</td>\n",
       "      <td>kiefer</td>\n",
       "      <td>kiefer</td>\n",
       "      <td>midi_sources/hooktheory/pianoroll/w/what-a-day...</td>\n",
       "      <td>chorus</td>\n",
       "      <td>4.0</td>\n",
       "    </tr>\n",
       "    <tr>\n",
       "      <th>3</th>\n",
       "      <td>https://www.hooktheory.com/theorytab/view/whit...</td>\n",
       "      <td>9e7ce13a35f1314423a9a6d5a5287a4a</td>\n",
       "      <td>NaN</td>\n",
       "      <td>J-Pop,Pop</td>\n",
       "      <td>-5.0</td>\n",
       "      <td>D</td>\n",
       "      <td>pre-chorus</td>\n",
       "      <td>hooktheory</td>\n",
       "      <td>152.0</td>\n",
       "      <td>whiteflame</td>\n",
       "      <td>6.0</td>\n",
       "      <td>sf4/midi_encode/hooktheory/pianoroll/w/whitefl...</td>\n",
       "      <td>senbonzakura - pre-Pre-Chorus</td>\n",
       "      <td>senbonzakura</td>\n",
       "      <td>midi_sources/hooktheory/pianoroll/w/whiteflame...</td>\n",
       "      <td>verse,pre-chorus,chorus</td>\n",
       "      <td>4.0</td>\n",
       "    </tr>\n",
       "    <tr>\n",
       "      <th>4</th>\n",
       "      <td>https://www.hooktheory.com/theorytab/view/whit...</td>\n",
       "      <td>d5aaf79d0989222f1362f9f46c540a27</td>\n",
       "      <td>NaN</td>\n",
       "      <td>J-Pop,Pop</td>\n",
       "      <td>-5.0</td>\n",
       "      <td>D</td>\n",
       "      <td>verse</td>\n",
       "      <td>hooktheory</td>\n",
       "      <td>152.0</td>\n",
       "      <td>whiteflame</td>\n",
       "      <td>6.0</td>\n",
       "      <td>sf4/midi_encode/hooktheory/pianoroll/w/whitefl...</td>\n",
       "      <td>Senbonzakura</td>\n",
       "      <td>senbonzakura</td>\n",
       "      <td>midi_sources/hooktheory/pianoroll/w/whiteflame...</td>\n",
       "      <td>verse,pre-chorus,chorus</td>\n",
       "      <td>4.0</td>\n",
       "    </tr>\n",
       "  </tbody>\n",
       "</table>\n",
       "</div>"
      ],
      "text/plain": [
       "                                            song_url  \\\n",
       "0  https://www.hooktheory.com/theorytab/view/wayn...   \n",
       "1  https://www.hooktheory.com/theorytab/view/wayn...   \n",
       "2  https://www.hooktheory.com/theorytab/view/what...   \n",
       "3  https://www.hooktheory.com/theorytab/view/whit...   \n",
       "4  https://www.hooktheory.com/theorytab/view/whit...   \n",
       "\n",
       "                                md5  mxl     genres  ht_offset ht_key  \\\n",
       "0  bf1f29e5ff84e3e93e37fb873bfb590e  NaN        NaN        0.0      C   \n",
       "1  055f80ad67f64edb14a85ca8fbfe8c29  NaN        NaN        0.0      C   \n",
       "2  197f96f5d181f6ce1e2c5ab04ac1ff87  NaN       Jazz       -5.0      D   \n",
       "3  9e7ce13a35f1314423a9a6d5a5287a4a  NaN  J-Pop,Pop       -5.0      D   \n",
       "4  d5aaf79d0989222f1362f9f46c540a27  NaN  J-Pop,Pop       -5.0      D   \n",
       "\n",
       "      section      source  ht_bpm        artist  ht_mode  \\\n",
       "0      chorus  hooktheory   128.0  wayne-sharpe      1.0   \n",
       "1       intro  hooktheory    85.0  wayne-sharpe      1.0   \n",
       "2      chorus  hooktheory    96.0    what-a-day      6.0   \n",
       "3  pre-chorus  hooktheory   152.0    whiteflame      6.0   \n",
       "4       verse  hooktheory   152.0    whiteflame      6.0   \n",
       "\n",
       "                                               numpy  \\\n",
       "0  sf4/midi_encode/hooktheory/pianoroll/w/wayne-s...   \n",
       "1  sf4/midi_encode/hooktheory/pianoroll/w/wayne-s...   \n",
       "2  sf4/midi_encode/hooktheory/pianoroll/w/what-a-...   \n",
       "3  sf4/midi_encode/hooktheory/pianoroll/w/whitefl...   \n",
       "4  sf4/midi_encode/hooktheory/pianoroll/w/whitefl...   \n",
       "\n",
       "                      midi_title                title  \\\n",
       "0                      yu-gi-oh3  yu-gi-oh-theme-song   \n",
       "1                       yu-gi-oh  yu-gi-oh-theme-song   \n",
       "2                         kiefer               kiefer   \n",
       "3  senbonzakura - pre-Pre-Chorus         senbonzakura   \n",
       "4                   Senbonzakura         senbonzakura   \n",
       "\n",
       "                                                midi                    parts  \\\n",
       "0  midi_sources/hooktheory/pianoroll/w/wayne-shar...             intro,chorus   \n",
       "1  midi_sources/hooktheory/pianoroll/w/wayne-shar...             intro,chorus   \n",
       "2  midi_sources/hooktheory/pianoroll/w/what-a-day...                   chorus   \n",
       "3  midi_sources/hooktheory/pianoroll/w/whiteflame...  verse,pre-chorus,chorus   \n",
       "4  midi_sources/hooktheory/pianoroll/w/whiteflame...  verse,pre-chorus,chorus   \n",
       "\n",
       "   ht_time_signature  \n",
       "0                4.0  \n",
       "1                3.0  \n",
       "2                4.0  \n",
       "3                4.0  \n",
       "4                4.0  "
      ]
     },
     "execution_count": 12,
     "metadata": {},
     "output_type": "execute_result"
    }
   ],
   "source": [
    "csv.head()"
   ]
  },
  {
   "cell_type": "code",
   "execution_count": 13,
   "metadata": {},
   "outputs": [
    {
     "data": {
      "text/plain": [
       "(164774, 17)"
      ]
     },
     "execution_count": 13,
     "metadata": {},
     "output_type": "execute_result"
    }
   ],
   "source": [
    "csv.shape"
   ]
  },
  {
   "cell_type": "code",
   "execution_count": 17,
   "metadata": {},
   "outputs": [
    {
     "data": {
      "text/plain": [
       "164774"
      ]
     },
     "execution_count": 17,
     "metadata": {},
     "output_type": "execute_result"
    }
   ],
   "source": [
    "all_files = get_files(csv); len(all_files)"
   ]
  },
  {
   "cell_type": "code",
   "execution_count": 18,
   "metadata": {},
   "outputs": [
    {
     "ename": "AttributeError",
     "evalue": "type object 'MusicDataBunch' has no attribute 'load'",
     "output_type": "error",
     "traceback": [
      "\u001b[0;31m---------------------------------------------------------------------------\u001b[0m",
      "\u001b[0;31mAttributeError\u001b[0m                            Traceback (most recent call last)",
      "\u001b[0;32m<ipython-input-18-9f1b62a83a7b>\u001b[0m in \u001b[0;36m<module>\u001b[0;34m\u001b[0m\n\u001b[0;32m----> 1\u001b[0;31m \u001b[0mall_data\u001b[0m \u001b[0;34m=\u001b[0m \u001b[0mcreate_databunch\u001b[0m\u001b[0;34m(\u001b[0m\u001b[0mall_files\u001b[0m\u001b[0;34m,\u001b[0m \u001b[0mcache_name\u001b[0m\u001b[0;34m=\u001b[0m\u001b[0;34m'tmp/all'\u001b[0m\u001b[0;34m,\u001b[0m \u001b[0mload_cached\u001b[0m\u001b[0;34m=\u001b[0m\u001b[0;32mTrue\u001b[0m\u001b[0;34m)\u001b[0m\u001b[0;34m\u001b[0m\u001b[0;34m\u001b[0m\u001b[0m\n\u001b[0m",
      "\u001b[0;32m<ipython-input-9-c3b8c338ce1c>\u001b[0m in \u001b[0;36mcreate_databunch\u001b[0;34m(files, cache_name, batch_size, load_cached)\u001b[0m\n\u001b[1;32m      1\u001b[0m \u001b[0;32mdef\u001b[0m \u001b[0mcreate_databunch\u001b[0m\u001b[0;34m(\u001b[0m\u001b[0mfiles\u001b[0m\u001b[0;34m,\u001b[0m \u001b[0mcache_name\u001b[0m\u001b[0;34m,\u001b[0m \u001b[0mbatch_size\u001b[0m\u001b[0;34m=\u001b[0m\u001b[0;36m32\u001b[0m\u001b[0;34m,\u001b[0m \u001b[0mload_cached\u001b[0m\u001b[0;34m=\u001b[0m\u001b[0;32mFalse\u001b[0m\u001b[0;34m)\u001b[0m\u001b[0;34m:\u001b[0m\u001b[0;34m\u001b[0m\u001b[0;34m\u001b[0m\u001b[0m\n\u001b[1;32m      2\u001b[0m     \u001b[0;32mif\u001b[0m \u001b[0mload_cached\u001b[0m \u001b[0;32mand\u001b[0m \u001b[0;34m(\u001b[0m\u001b[0mout_path\u001b[0m\u001b[0;34m/\u001b[0m\u001b[0;34mf'{cache_name}/train_ids.npy'\u001b[0m\u001b[0;34m)\u001b[0m\u001b[0;34m.\u001b[0m\u001b[0mexists\u001b[0m\u001b[0;34m(\u001b[0m\u001b[0;34m)\u001b[0m\u001b[0;34m:\u001b[0m\u001b[0;34m\u001b[0m\u001b[0;34m\u001b[0m\u001b[0m\n\u001b[0;32m----> 3\u001b[0;31m         \u001b[0mdata\u001b[0m \u001b[0;34m=\u001b[0m \u001b[0mMusicDataBunch\u001b[0m\u001b[0;34m.\u001b[0m\u001b[0mload\u001b[0m\u001b[0;34m(\u001b[0m\u001b[0mout_path\u001b[0m\u001b[0;34m,\u001b[0m \u001b[0mbs\u001b[0m\u001b[0;34m=\u001b[0m\u001b[0mbatch_size\u001b[0m\u001b[0;34m,\u001b[0m \u001b[0mcache_name\u001b[0m\u001b[0;34m=\u001b[0m\u001b[0mcache_name\u001b[0m\u001b[0;34m)\u001b[0m\u001b[0;34m\u001b[0m\u001b[0;34m\u001b[0m\u001b[0m\n\u001b[0m\u001b[1;32m      4\u001b[0m     \u001b[0;32melse\u001b[0m\u001b[0;34m:\u001b[0m\u001b[0;34m\u001b[0m\u001b[0;34m\u001b[0m\u001b[0m\n\u001b[1;32m      5\u001b[0m         \u001b[0mps\u001b[0m \u001b[0;34m=\u001b[0m \u001b[0;34m[\u001b[0m\u001b[0mOpenNPFileProcessor\u001b[0m\u001b[0;34m(\u001b[0m\u001b[0;34m)\u001b[0m\u001b[0;34m]\u001b[0m\u001b[0;34m\u001b[0m\u001b[0;34m\u001b[0m\u001b[0m\n",
      "\u001b[0;31mAttributeError\u001b[0m: type object 'MusicDataBunch' has no attribute 'load'"
     ]
    }
   ],
   "source": [
    "all_data = create_databunch(all_files, cache_name='tmp/all', load_cached=True)"
   ]
  },
  {
   "cell_type": "markdown",
   "metadata": {},
   "source": [
    "### Create sample"
   ]
  },
  {
   "cell_type": "code",
   "execution_count": null,
   "metadata": {},
   "outputs": [],
   "source": [
    "import random\n",
    "sample_data = create_databunch(random.sample(all_files, 1000), cache_name='tmp/sample')"
   ]
  },
  {
   "cell_type": "markdown",
   "metadata": {},
   "source": [
    "Note: we are reusing all_vocab for the following datasets"
   ]
  },
  {
   "cell_type": "markdown",
   "metadata": {},
   "source": [
    "### Create Hooktheory Dataset"
   ]
  },
  {
   "cell_type": "code",
   "execution_count": 16,
   "metadata": {},
   "outputs": [
    {
     "name": "stdout",
     "output_type": "stream",
     "text": [
      "The history saving thread hit an unexpected error (OperationalError('database is locked')).History will not be written to the database.\n"
     ]
    },
    {
     "data": {
      "text/plain": [
       "19404"
      ]
     },
     "execution_count": 16,
     "metadata": {},
     "output_type": "execute_result"
    }
   ],
   "source": [
    "hook_csv = csv.loc[csv.source.isin(['hooktheory'])]\n",
    "hook_files = get_files(hook_csv); len(hook_files)"
   ]
  },
  {
   "cell_type": "code",
   "execution_count": 17,
   "metadata": {},
   "outputs": [],
   "source": [
    "hook_data = create_databunch(hook_files, cache_name='tmp/hook')"
   ]
  },
  {
   "cell_type": "markdown",
   "metadata": {},
   "source": [
    "### Create Hooktheory C Dataset"
   ]
  },
  {
   "cell_type": "code",
   "execution_count": 18,
   "metadata": {},
   "outputs": [
    {
     "data": {
      "text/plain": [
       "19562"
      ]
     },
     "execution_count": 18,
     "metadata": {},
     "output_type": "execute_result"
    }
   ],
   "source": [
    "hook_csv = csv.loc[csv.source.isin(['hooktheory_c'])]\n",
    "hook_files = get_files(hook_csv); len(hook_files)"
   ]
  },
  {
   "cell_type": "code",
   "execution_count": 19,
   "metadata": {},
   "outputs": [],
   "source": [
    "hook_data = create_databunch(hook_files, cache_name='tmp/hook_c')"
   ]
  },
  {
   "cell_type": "markdown",
   "metadata": {},
   "source": [
    "### Create Solo Piano"
   ]
  },
  {
   "cell_type": "code",
   "execution_count": 20,
   "metadata": {},
   "outputs": [
    {
     "data": {
      "text/plain": [
       "17086"
      ]
     },
     "execution_count": 20,
     "metadata": {},
     "output_type": "execute_result"
    }
   ],
   "source": [
    "solo_csv = csv.loc[csv.source.isin(['musescore', 'wikifonia'])]\n",
    "solo_files = get_files(solo_csv); len(solo_csv)"
   ]
  },
  {
   "cell_type": "code",
   "execution_count": 21,
   "metadata": {},
   "outputs": [],
   "source": [
    "solo_data = create_databunch(solo_files, cache_name='tmp/solo')"
   ]
  },
  {
   "cell_type": "markdown",
   "metadata": {},
   "source": [
    "### Create Pop Dataset"
   ]
  },
  {
   "cell_type": "code",
   "execution_count": 22,
   "metadata": {},
   "outputs": [
    {
     "data": {
      "text/plain": [
       "16917"
      ]
     },
     "execution_count": 22,
     "metadata": {},
     "output_type": "execute_result"
    }
   ],
   "source": [
    "pop_csv = csv.loc[csv.source.isin(['midiworld', 'freemidi', 'lmd', 'cprato'])]\n",
    "pop_files = get_files(pop_csv); len(pop_csv)"
   ]
  },
  {
   "cell_type": "code",
   "execution_count": 23,
   "metadata": {},
   "outputs": [],
   "source": [
    "pop_data = create_databunch(pop_files, cache_name='tmp/pop')"
   ]
  },
  {
   "cell_type": "markdown",
   "metadata": {},
   "source": [
    "### Create Classical Dataset"
   ]
  },
  {
   "cell_type": "code",
   "execution_count": 24,
   "metadata": {},
   "outputs": [
    {
     "data": {
      "text/plain": [
       "17464"
      ]
     },
     "execution_count": 24,
     "metadata": {},
     "output_type": "execute_result"
    }
   ],
   "source": [
    "clc_csv = csv.loc[csv.source.isin(['classical_piano', 'ecomp', 'classical_archives'])]\n",
    "clc_files = get_files(clc_csv); len(clc_files)"
   ]
  },
  {
   "cell_type": "code",
   "execution_count": 25,
   "metadata": {},
   "outputs": [],
   "source": [
    "clc_data = create_databunch(clc_files, cache_name='tmp/clc')"
   ]
  },
  {
   "cell_type": "code",
   "execution_count": 26,
   "metadata": {},
   "outputs": [
    {
     "data": {
      "text/plain": [
       "17464"
      ]
     },
     "execution_count": 26,
     "metadata": {},
     "output_type": "execute_result"
    }
   ],
   "source": [
    "len(clc_files)"
   ]
  },
  {
   "cell_type": "markdown",
   "metadata": {},
   "source": [
    "## Create dumpster dataset"
   ]
  },
  {
   "cell_type": "code",
   "execution_count": 27,
   "metadata": {},
   "outputs": [
    {
     "data": {
      "text/plain": [
       "74341"
      ]
     },
     "execution_count": 27,
     "metadata": {},
     "output_type": "execute_result"
    }
   ],
   "source": [
    "dmp_csv = csv.loc[csv.source.isin(['reddit'])]\n",
    "dmp_files = get_files(dmp_csv); len(dmp_files)"
   ]
  },
  {
   "cell_type": "code",
   "execution_count": 28,
   "metadata": {},
   "outputs": [],
   "source": [
    "dmp_data = create_databunch(dmp_files, cache_name='tmp/dmp')"
   ]
  },
  {
   "cell_type": "markdown",
   "metadata": {},
   "source": [
    "## Low quality"
   ]
  },
  {
   "cell_type": "code",
   "execution_count": 29,
   "metadata": {},
   "outputs": [
    {
     "data": {
      "text/plain": [
       "114917"
      ]
     },
     "execution_count": 29,
     "metadata": {},
     "output_type": "execute_result"
    }
   ],
   "source": [
    "lq_csv = csv.loc[csv.source.isin(['reddit', 'classical_piano', 'ecomp', 'midiworld', 'freemidi', 'lmd', 'cprato', 'wikifonia', 'classical_archives'])]\n",
    "lq_files = get_files(lq_csv); len(lq_files)"
   ]
  },
  {
   "cell_type": "code",
   "execution_count": 30,
   "metadata": {},
   "outputs": [],
   "source": [
    "lq_data = create_databunch(lq_files, cache_name='tmp/lq')"
   ]
  },
  {
   "cell_type": "markdown",
   "metadata": {},
   "source": [
    "## All High quality"
   ]
  },
  {
   "cell_type": "code",
   "execution_count": 31,
   "metadata": {},
   "outputs": [
    {
     "data": {
      "text/plain": [
       "30295"
      ]
     },
     "execution_count": 31,
     "metadata": {},
     "output_type": "execute_result"
    }
   ],
   "source": [
    "hq_csv = csv.loc[csv.source.isin(['hooktheory', 'musescore'])]\n",
    "hq_files = get_files(hq_csv); len(hq_files)"
   ]
  },
  {
   "cell_type": "code",
   "execution_count": 32,
   "metadata": {},
   "outputs": [],
   "source": [
    "hq_data = create_databunch(hq_files, cache_name='tmp/hq')"
   ]
  },
  {
   "cell_type": "markdown",
   "metadata": {},
   "source": [
    "### Testing"
   ]
  },
  {
   "cell_type": "code",
   "execution_count": 33,
   "metadata": {},
   "outputs": [],
   "source": [
    "data = all_data"
   ]
  },
  {
   "cell_type": "code",
   "execution_count": 34,
   "metadata": {},
   "outputs": [
    {
     "data": {
      "text/plain": [
       "MusicItemList (163127 items)\n",
       "[[   0    0]\n",
       " [   1    0]\n",
       " [   8    0]\n",
       " [ 138    0]\n",
       " ...\n",
       " [  63 -112]\n",
       " [ 153 -112]\n",
       " [  60 -112]\n",
       " [ 153 -112]],[[   0    0]\n",
       " [   1    0]\n",
       " [  74    0]\n",
       " [ 138    0]\n",
       " ...\n",
       " [   8 -128]\n",
       " [ 141 -128]\n",
       " [  76 -132]\n",
       " [ 149 -132]],[[  0   0]\n",
       " [  1   0]\n",
       " [ 81   0]\n",
       " [138   0]\n",
       " ...\n",
       " [  8 -58]\n",
       " [139 -58]\n",
       " [ 73 -60]\n",
       " [139 -60]],[[   0    0]\n",
       " [   1    0]\n",
       " [  74    0]\n",
       " [ 141    0]\n",
       " ...\n",
       " [   8 -124]\n",
       " [ 139 -124]\n",
       " [  74 -126]\n",
       " [ 139 -126]],[[   0    0]\n",
       " [   1    0]\n",
       " [  71    0]\n",
       " [ 141    0]\n",
       " ...\n",
       " [   8 -120]\n",
       " [ 141 -120]\n",
       " [  71 -124]\n",
       " [ 141 -124]]\n",
       "Path: data/midi/v18/sf4/midi_encode"
      ]
     },
     "execution_count": 34,
     "metadata": {},
     "output_type": "execute_result"
    }
   ],
   "source": [
    "data.train_ds.x"
   ]
  },
  {
   "cell_type": "code",
   "execution_count": null,
   "metadata": {},
   "outputs": [],
   "source": []
  },
  {
   "cell_type": "code",
   "execution_count": null,
   "metadata": {},
   "outputs": [],
   "source": [
    "# train_ids_file = out_path/'tmp/all/train_ids.npy'\n",
    "# all_ids = np.load(train_ids_file)\n",
    "# id_cat = np.concatenate(all_ids); id_cat.shape\n",
    "# ax = tuple(range(len(id_cat.shape)-1))\n",
    "# max_vocab = id_cat.max(axis=ax)\n",
    "# max_vocab = (max_vocab+1).tolist(); max_vocab"
   ]
  },
  {
   "cell_type": "code",
   "execution_count": null,
   "metadata": {},
   "outputs": [],
   "source": [
    "npenc2stream(data.train_ds.x[10]).show()"
   ]
  },
  {
   "cell_type": "code",
   "execution_count": null,
   "metadata": {},
   "outputs": [],
   "source": []
  }
 ],
 "metadata": {
  "kernelspec": {
   "display_name": "Python 3",
   "language": "python",
   "name": "python3"
  },
  "language_info": {
   "codemirror_mode": {
    "name": "ipython",
    "version": 3
   },
   "file_extension": ".py",
   "mimetype": "text/x-python",
   "name": "python",
   "nbconvert_exporter": "python",
   "pygments_lexer": "ipython3",
   "version": "3.7.1"
  }
 },
 "nbformat": 4,
 "nbformat_minor": 2
}
