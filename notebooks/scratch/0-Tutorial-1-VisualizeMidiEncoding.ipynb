{
 "cells": [
  {
   "cell_type": "code",
   "execution_count": 1,
   "metadata": {},
   "outputs": [],
   "source": [
    "import music21"
   ]
  },
  {
   "cell_type": "code",
   "execution_count": 2,
   "metadata": {},
   "outputs": [],
   "source": [
    "from encode_data import *"
   ]
  },
  {
   "cell_type": "code",
   "execution_count": 3,
   "metadata": {},
   "outputs": [],
   "source": [
    "def stream2str(stream, short=True, continuous=False):\n",
    "    s_arr = stream2chordarr(stream) # 2.\n",
    "    seq = chordarr2seq(s_arr)\n",
    "    def note_func(note):\n",
    "        if continuous: return note.continuous_repr(short=short)\n",
    "        return note.duration_repr(short=short)\n",
    "    return seq2str(seq, note_func=note_func, continuous=continuous)\n",
    "    "
   ]
  },
  {
   "cell_type": "markdown",
   "metadata": {},
   "source": [
    "### Single notes"
   ]
  },
  {
   "cell_type": "code",
   "execution_count": 4,
   "metadata": {},
   "outputs": [
    {
     "data": {
      "text/plain": [
       "3.0"
      ]
     },
     "execution_count": 4,
     "metadata": {},
     "output_type": "execute_result"
    }
   ],
   "source": [
    "s1 = music21.stream.Stream()\n",
    "s1.append(music21.note.Note('C#4', type='half'))\n",
    "s1.append(music21.note.Note('D5', type='quarter'))\n",
    "s1.duration.quarterLength"
   ]
  },
  {
   "cell_type": "code",
   "execution_count": 5,
   "metadata": {},
   "outputs": [
    {
     "name": "stdout",
     "output_type": "stream",
     "text": [
      "{0.0} <music21.note.Note C#>\n",
      "{2.0} <music21.note.Note D>\n"
     ]
    }
   ],
   "source": [
    "s1.show('text')"
   ]
  },
  {
   "cell_type": "code",
   "execution_count": 6,
   "metadata": {},
   "outputs": [
    {
     "data": {
      "image/png": "[encoded data removed]",
      "text/plain": [
       "<IPython.core.display.Image object>"
      ]
     },
     "metadata": {
      "image/png": {
       "height": 56,
       "width": 184
      }
     },
     "output_type": "display_data"
    }
   ],
   "source": [
    "s1.show()"
   ]
  },
  {
   "cell_type": "markdown",
   "metadata": {},
   "source": [
    "### Continuous = True\n",
    "This means every beat is separated by a `||`  \n",
    "Every note is followed by a `t-1` or `t-2`  \n",
    "`t-1` = note strike  \n",
    "`t-2` = note continuation from previous  "
   ]
  },
  {
   "cell_type": "code",
   "execution_count": 7,
   "metadata": {},
   "outputs": [
    {
     "data": {
      "text/plain": [
       "'nC#4 t-1 || nC#4 t-2 || nC#4 t-2 || nC#4 t-2 || nC#4 t-2 || nC#4 t-2 || nC#4 t-2 || nC#4 t-2 || nD5 t-1 || nD5 t-2 || nD5 t-2 || nD5 t-2 || ||'"
      ]
     },
     "execution_count": 7,
     "metadata": {},
     "output_type": "execute_result"
    }
   ],
   "source": [
    "stream2str(s1, continuous=True)"
   ]
  },
  {
   "cell_type": "markdown",
   "metadata": {},
   "source": [
    "### Continuous = False\n",
    "Notes are followed by `tX` - `X` represents the number of beats played  \n",
    "Beat separators are condensed if no beat is played in between. Also followed by a `tX` for number of beats to skip"
   ]
  },
  {
   "cell_type": "code",
   "execution_count": 8,
   "metadata": {},
   "outputs": [
    {
     "data": {
      "text/plain": [
       "'|| t0 nC#4 t8 || t7 nD5 t4'"
      ]
     },
     "execution_count": 8,
     "metadata": {},
     "output_type": "execute_result"
    }
   ],
   "source": [
    "cont_str = stream2str(s1); cont_str"
   ]
  },
  {
   "cell_type": "code",
   "execution_count": 9,
   "metadata": {},
   "outputs": [
    {
     "data": {
      "text/html": [
       "\n",
       "                <div id='midiPlayerDiv178'></div>\n",
       "                <link rel=\"stylesheet\" href=\"//cuthbertLab.github.io/music21j/css/m21.css\"\n",
       "                    type=\"text/css\" />\n",
       "                <script>\n",
       "                require.config({\n",
       "                    paths: {'music21': '//cuthbertLab.github.io/music21j/src/music21'}\n",
       "                });\n",
       "                require(['music21'], function() {\n",
       "                               mp = new music21.miditools.MidiPlayer();\n",
       "                               mp.addPlayer('#midiPlayerDiv178');\n",
       "                               mp.base64Load('data:audio/midi;base64,TVRoZAAAAAYAAQABBABNVHJrAAAAMgD/AwVQaWFubwDAAADgAEAAwAAA/1EDB6EgggCQPVqQAIA9AACQSlqIAIBKAIgA/y8A');\n",
       "                        });\n",
       "                </script>"
      ],
      "text/plain": [
       "<IPython.core.display.HTML object>"
      ]
     },
     "metadata": {},
     "output_type": "display_data"
    }
   ],
   "source": [
    "str2stream(cont_str).show('midi')"
   ]
  },
  {
   "cell_type": "markdown",
   "metadata": {},
   "source": [
    "### Chords"
   ]
  },
  {
   "cell_type": "code",
   "execution_count": 29,
   "metadata": {},
   "outputs": [
    {
     "data": {
      "text/plain": [
       "2.0"
      ]
     },
     "execution_count": 29,
     "metadata": {},
     "output_type": "execute_result"
    }
   ],
   "source": [
    "c1 = music21.stream.Stream()\n",
    "c1.append(music21.chord.Chord(['C', 'E', 'G'], type='quarter'))\n",
    "c1.append(music21.chord.Chord(['D', 'F'], type='quarter'))\n",
    "c1.duration.quarterLength"
   ]
  },
  {
   "cell_type": "code",
   "execution_count": 30,
   "metadata": {},
   "outputs": [
    {
     "data": {
      "image/png": "[encoded data removed]",
      "text/plain": [
       "<IPython.core.display.Image object>"
      ]
     },
     "metadata": {
      "image/png": {
       "height": 50,
       "width": 180
      }
     },
     "output_type": "display_data"
    }
   ],
   "source": [
    "c1.show()"
   ]
  },
  {
   "cell_type": "code",
   "execution_count": 33,
   "metadata": {},
   "outputs": [
    {
     "data": {
      "text/plain": [
       "'nC4 t-1 nE4 t-1 nG4 t-1 || nC4 t-2 nE4 t-2 nG4 t-2 || nC4 t-2 nE4 t-2 nG4 t-2 || nC4 t-2 nE4 t-2 nG4 t-2 || nD4 t-1 nF4 t-1 || nD4 t-2 nF4 t-2 || nD4 t-2 nF4 t-2 || nD4 t-2 nF4 t-2 || ||'"
      ]
     },
     "execution_count": 33,
     "metadata": {},
     "output_type": "execute_result"
    }
   ],
   "source": [
    "stream2str(s1, continuous=True)"
   ]
  },
  {
   "cell_type": "code",
   "execution_count": 32,
   "metadata": {},
   "outputs": [
    {
     "data": {
      "text/plain": [
       "'|| t0 nC4 t4 nE4 t4 nG4 t4 || t3 nD4 t4 nF4 t4'"
      ]
     },
     "execution_count": 32,
     "metadata": {},
     "output_type": "execute_result"
    }
   ],
   "source": [
    "cont_str = stream2str(s1, continuous=False); cont_str"
   ]
  },
  {
   "cell_type": "code",
   "execution_count": null,
   "metadata": {},
   "outputs": [],
   "source": []
  }
 ],
 "metadata": {
  "kernelspec": {
   "display_name": "Python 3",
   "language": "python",
   "name": "python3"
  },
  "language_info": {
   "codemirror_mode": {
    "name": "ipython",
    "version": 3
   },
   "file_extension": ".py",
   "mimetype": "text/x-python",
   "name": "python",
   "nbconvert_exporter": "python",
   "pygments_lexer": "ipython3",
   "version": "3.7.3"
  }
 },
 "nbformat": 4,
 "nbformat_minor": 2
}
